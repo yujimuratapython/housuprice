{
  "nbformat": 4,
  "nbformat_minor": 2,
  "metadata": {
    "kernelspec": {
      "name": "python3",
      "display_name": "Python 3.8.5 64-bit ('base': conda)"
    },
    "language_info": {
      "name": "python",
      "version": "3.8.5",
      "mimetype": "text/x-python",
      "codemirror_mode": {
        "name": "ipython",
        "version": 3
      },
      "pygments_lexer": "ipython3",
      "nbconvert_exporter": "python",
      "file_extension": ".py"
    },
    "colab": {
      "name": "02_automl_houseprices.ipynb",
      "provenance": [],
      "collapsed_sections": [],
      "include_colab_link": true
    },
    "interpreter": {
      "hash": "85b3826ab84e05600f374763b027b08e743a57c14786fd2ec4a4f87aa46ec96e"
    }
  },
  "cells": [
    {
      "cell_type": "code",
      "execution_count": null,
      "source": [
        "!pip install pycaret==2.3.1"
      ],
      "outputs": [],
      "metadata": {
        "id": "SWdUoVOzhUst"
      }
    },
    {
      "cell_type": "code",
      "execution_count": null,
      "source": [
        "from pycaret.utils import enable_colab\r\n",
        "\r\n",
        "enable_colab()"
      ],
      "outputs": [],
      "metadata": {
        "id": "KaJjoErYGyXc"
      }
    },
    {
      "cell_type": "code",
      "execution_count": null,
      "source": [
        "import numpy as np\r\n",
        "import pandas as pd\r\n",
        "\r\n",
        "train_data = pd.read_csv(\"train.csv\")  # 訓練データ\r\n",
        "test_data = pd.read_csv(\"test.csv\") # テストデータ\r\n",
        "\r\n",
        "train_data.head()"
      ],
      "outputs": [],
      "metadata": {
        "execution": {
          "iopub.status.busy": "2021-06-07T06:24:30.673433Z",
          "iopub.execute_input": "2021-06-07T06:24:30.674071Z",
          "iopub.status.idle": "2021-06-07T06:24:30.743367Z",
          "shell.execute_reply.started": "2021-06-07T06:24:30.674016Z",
          "shell.execute_reply": "2021-06-07T06:24:30.741854Z"
        },
        "trusted": true,
        "id": "HhBVtZ25Om0i"
      }
    },
    {
      "cell_type": "code",
      "execution_count": null,
      "source": [
        "#https://pycaret.readthedocs.io/en/latest/api/regression.html#pycaret.regression.setup\r\n",
        "\r\n",
        "from pycaret.regression import setup\r\n",
        "\r\n",
        "clf = setup(data=train_data, target=\"SalePrice\", session_id=123,  # 環境の初期化\r\n",
        "            numeric_imputation=\"mean\", categorical_imputation=\"mode\")"
      ],
      "outputs": [],
      "metadata": {
        "id": "-O9MinyDnHpB"
      }
    },
    {
      "cell_type": "code",
      "execution_count": null,
      "source": [
        "from pycaret.regression import compare_models\r\n",
        "\r\n",
        "best_model = compare_models()  # 全てのモデルを訓練し、評価する"
      ],
      "outputs": [],
      "metadata": {
        "id": "k9jV5GnCqRRG"
      }
    },
    {
      "cell_type": "code",
      "execution_count": null,
      "source": [
        "print(best_model)"
      ],
      "outputs": [],
      "metadata": {
        "id": "pZunyfB_rPHb"
      }
    },
    {
      "cell_type": "code",
      "execution_count": null,
      "source": [
        "from pycaret.regression import models\r\n",
        "\r\n",
        "models()  # 機械学習モデルの一覧"
      ],
      "outputs": [],
      "metadata": {}
    },
    {
      "cell_type": "code",
      "execution_count": null,
      "source": [
        "from pycaret.regression import create_model\r\n",
        "\r\n",
        "gbr = create_model(\"gbr\")  # 勾配ブースティングのモデルを作成"
      ],
      "outputs": [],
      "metadata": {
        "id": "k8MIUL7Trf9h"
      }
    },
    {
      "cell_type": "code",
      "execution_count": null,
      "source": [
        "print(gbr)"
      ],
      "outputs": [],
      "metadata": {
        "id": "zAZau_D8uEMA"
      }
    },
    {
      "cell_type": "code",
      "execution_count": null,
      "source": [
        "from pycaret.regression import tune_model\r\n",
        "\r\n",
        "tuned_gbr = tune_model(gbr)  # ハイパーパラメータの調整"
      ],
      "outputs": [],
      "metadata": {
        "id": "kRyIUO6Yvc-B"
      }
    },
    {
      "cell_type": "code",
      "execution_count": null,
      "source": [
        "print(tuned_gbr)"
      ],
      "outputs": [],
      "metadata": {
        "id": "q_k-T1HCvn2s"
      }
    },
    {
      "cell_type": "code",
      "execution_count": null,
      "source": [
        "from pycaret.regression import plot_model\r\n",
        "\r\n",
        "plot_model(tuned_gbr, plot=\"feature\")  # 各特徴の重要度をプロット"
      ],
      "outputs": [],
      "metadata": {
        "id": "9p_3L4cbvvzt"
      }
    },
    {
      "cell_type": "code",
      "execution_count": null,
      "source": [
        "from pycaret.regression import finalize_model\r\n",
        "\r\n",
        "final_gbr = finalize_model(tuned_gbr)\r\n",
        "print(final_gbr)"
      ],
      "outputs": [],
      "metadata": {
        "id": "Sp9EIYA9yrHg"
      }
    },
    {
      "cell_type": "code",
      "execution_count": null,
      "source": [
        "from pycaret.regression import predict_model\r\n",
        "\r\n",
        "test_pred = predict_model(final_gbr, data=test_data)  # 予測\r\n",
        "test_pred.head()"
      ],
      "outputs": [],
      "metadata": {
        "id": "ATaqIJbB9PMN"
      }
    },
    {
      "cell_type": "code",
      "execution_count": null,
      "source": [
        "# 形式を整える\r\n",
        "subm_data = test_pred[[\"Id\", \"Label\"]]  # 列を抜き出す\r\n",
        "subm_data = subm_data.rename(columns={\"Label\" : \"SalePrice\"})  # 列名の変更\r\n",
        "\r\n",
        "# 提出用のcsvファイルを保存\r\n",
        "subm_data.to_csv(\"submission_houseprices.csv\", index=False)\r\n",
        "\r\n",
        "subm_data"
      ],
      "outputs": [],
      "metadata": {
        "execution": {
          "iopub.status.busy": "2021-06-07T06:24:32.632682Z",
          "iopub.execute_input": "2021-06-07T06:24:32.633315Z",
          "iopub.status.idle": "2021-06-07T06:24:32.667287Z",
          "shell.execute_reply.started": "2021-06-07T06:24:32.633264Z",
          "shell.execute_reply": "2021-06-07T06:24:32.666436Z"
        },
        "trusted": true,
        "id": "Cf3ufj9MOm0m"
      }
    }
  ]
}